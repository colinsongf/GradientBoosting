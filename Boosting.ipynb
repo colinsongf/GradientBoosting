{
 "cells": [
  {
   "cell_type": "code",
   "execution_count": 1,
   "metadata": {
    "collapsed": false
   },
   "outputs": [
    {
     "name": "stdout",
     "output_type": "stream",
     "text": [
      "Populating the interactive namespace from numpy and matplotlib\n"
     ]
    }
   ],
   "source": [
    "import numpy as np\n",
    "import pandas as pd\n",
    "import matplotlib.pylab as pl\n",
    "import sklearn.cross_validation as cv\n",
    "from sklearn.metrics import accuracy_score\n",
    "from sklearn.tree import DecisionTreeClassifier\n",
    "from DecisionTree import DecisionTree\n",
    "# Plotting config\n",
    "%pylab inline"
   ]
  },
  {
   "cell_type": "code",
   "execution_count": 2,
   "metadata": {
    "collapsed": false
   },
   "outputs": [],
   "source": [
    "FOLDER = \"data/\"\n",
    "FILES = [\"iris.txt\", \"bezdekIris.txt\", \"wine.txt\", \"bupa.txt\", \"spam\"]\n",
    "FILE = FILES[4]"
   ]
  },
  {
   "cell_type": "code",
   "execution_count": 5,
   "metadata": {
    "collapsed": false
   },
   "outputs": [],
   "source": [
    "# Подготавливаем признаки и целевую функцию\n",
    "if FILE in FILES[:4]:\n",
    "    \n",
    "    df = pd.read_csv(FOLDER+FILE, sep=\",\", header=None)#, encoding=\"utf-8\", quoting=csv.QUOTE_NONNUMERIC)\n",
    "    \n",
    "    if FILE in FILES[:2]:\n",
    "        # ИРИСЫ\n",
    "        df[4] = pd.factorize(df[4])[0]\n",
    "        X = df[[0,1,2,3]].as_matrix()\n",
    "        y = df[4].as_matrix()\n",
    "\n",
    "    if FILE == FILES[2]:\n",
    "        x_indexes = [x for x in range(1,14)]\n",
    "        X = df[x_indexes].as_matrix()\n",
    "        y = df[0].as_matrix()\n",
    "\n",
    "    if FILE == FILES[3]:\n",
    "        X = df[[0,1,2,3,4,5]].as_matrix()\n",
    "        y = df[6]\n",
    "\n",
    "    x_train, x_test, y_train, y_test = cv.train_test_split(X, y, test_size=0.25)\n",
    "\n",
    "else:\n",
    "    \n",
    "    df_train = pd.read_csv(FOLDER+FILE+\".train.txt\", sep=\" \", header=None)#, encoding=\"utf-8\", quoting=csv.QUOTE_NONNUMERIC)\n",
    "    df_test = pd.read_csv(FOLDER+FILE+\".test.txt\", sep=\" \", header=None)#, encoding=\"utf-8\", quoting=csv.QUOTE_NONNUMERIC)\n",
    "    x_train = df_train[df_train.columns[1:]].as_matrix()\n",
    "    y_train = df_train[df_train.columns[0]].as_matrix()\n",
    "    x_test = df_test[df_test.columns[1:]].as_matrix()\n",
    "    y_test = df_test[df_test.columns[0]].as_matrix()"
   ]
  },
  {
   "cell_type": "code",
   "execution_count": 11,
   "metadata": {
    "collapsed": false
   },
   "outputs": [
    {
     "name": "stdout",
     "output_type": "stream",
     "text": [
      "0.790672235481\n",
      "CPU times: user 37.6 s, sys: 4.08 ms, total: 37.6 s\n",
      "Wall time: 37.6 s\n"
     ]
    }
   ],
   "source": [
    "%%time\n",
    "my_tree = DecisionTree()\n",
    "my_tree.fit(x_train, y_train)\n",
    "y_predicted = my_tree.predict(x_test)\n",
    "print accuracy_score(y_test, y_predicted)"
   ]
  },
  {
   "cell_type": "code",
   "execution_count": 10,
   "metadata": {
    "collapsed": false
   },
   "outputs": [
    {
     "name": "stdout",
     "output_type": "stream",
     "text": [
      "0.843973747017\n",
      "CPU times: user 66.3 ms, sys: 0 ns, total: 66.3 ms\n",
      "Wall time: 65.4 ms\n"
     ]
    }
   ],
   "source": [
    "%%time\n",
    "sklearn_tree = DecisionTreeClassifier(splitter='random')\n",
    "sklearn_tree.fit(x_train, y_train)\n",
    "y_predicted = sklearn_tree.predict(x_test)\n",
    "print accuracy_score(y_test, y_predicted)"
   ]
  }
 ],
 "metadata": {
  "kernelspec": {
   "display_name": "Python 2",
   "language": "python",
   "name": "python2"
  },
  "language_info": {
   "codemirror_mode": {
    "name": "ipython",
    "version": 2
   },
   "file_extension": ".py",
   "mimetype": "text/x-python",
   "name": "python",
   "nbconvert_exporter": "python",
   "pygments_lexer": "ipython2",
   "version": "2.7.10"
  }
 },
 "nbformat": 4,
 "nbformat_minor": 0
}

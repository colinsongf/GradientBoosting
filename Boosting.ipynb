{
 "cells": [
  {
   "cell_type": "code",
   "execution_count": 1,
   "metadata": {
    "collapsed": false
   },
   "outputs": [
    {
     "name": "stdout",
     "output_type": "stream",
     "text": [
      "Populating the interactive namespace from numpy and matplotlib\n"
     ]
    }
   ],
   "source": [
    "import numpy as np\n",
    "import pandas as pd\n",
    "import matplotlib.pylab as pl\n",
    "import sklearn.cross_validation as cv\n",
    "from sklearn.metrics import accuracy_score\n",
    "from sklearn.tree import DecisionTreeClassifier, DecisionTreeRegressor,export_graphviz\n",
    "from DecisionTree import DecisionTree\n",
    "from sklearn.metrics import mean_squared_error as mse\n",
    "from sklearn.ensemble import GradientBoostingRegressor\n",
    "from GradientBoosting import GradientBoosting as myGB\n",
    "# Plotting config\n",
    "%pylab inline"
   ]
  },
  {
   "cell_type": "code",
   "execution_count": 2,
   "metadata": {
    "collapsed": true
   },
   "outputs": [],
   "source": [
    "FOLDER = \"data/\"\n",
    "FILES = [\n",
    "        \"iris.txt\", \"bezdekIris.txt\", \"wine.txt\", \"bupa.txt\", \"housing.txt\", \"auto-mpg.txt\", \"spam\"\n",
    "        ]\n",
    "FILE = \"spam\""
   ]
  },
  {
   "cell_type": "code",
   "execution_count": 3,
   "metadata": {
    "collapsed": true
   },
   "outputs": [],
   "source": [
    "# Подготавливаем признаки и целевую функцию\n",
    "if FILE in FILES[:6]:\n",
    "    \n",
    "    df = pd.read_csv(FOLDER+FILE, sep=\",\", header=None)#, encoding=\"utf-8\", quoting=csv.QUOTE_NONNUMERIC)\n",
    "    \n",
    "    if FILE in FILES[:2]:\n",
    "        # ИРИСЫ\n",
    "        df[4] = pd.factorize(df[4])[0]\n",
    "        X = df[[0,1,2,3]].as_matrix()\n",
    "        y = df[4].as_matrix()\n",
    "\n",
    "    if FILE == FILES[2]:\n",
    "        x_indexes = [x for x in range(1,14)]\n",
    "        X = df[x_indexes].as_matrix()\n",
    "        y = df[0].as_matrix()\n",
    "\n",
    "    if FILE == FILES[3]:\n",
    "        X = df[[0,1,2,3,4,5]].as_matrix()\n",
    "        y = df[6]\n",
    "        \n",
    "    if FILE == FILES[4]:\n",
    "        df = pd.read_csv(FOLDER+FILE, sep=\" \", header=None)#, encoding=\"utf-8\", quoting=csv.QUOTE_NONNUMERIC)\n",
    "        X = df[df.columns[1:]].as_matrix()\n",
    "        y = df[df.columns[0]].as_matrix()\n",
    "        \n",
    "    if FILE == FILES[5]:\n",
    "        df = pd.read_csv(FOLDER+FILE, sep=\" \", header=None)#, encoding=\"utf-8\", quoting=csv.QUOTE_NONNUMERIC)\n",
    "        X = df[df.columns[1:-1]].as_matrix()\n",
    "        y = df[df.columns[0]].as_matrix()\n",
    "        \n",
    "    x_train, x_test, y_train, y_test = cv.train_test_split(X, y, test_size=0.25)\n",
    "\n",
    "else:\n",
    "    \n",
    "    df_train = pd.read_csv(FOLDER+FILE+\".train.txt\", sep=\" \", header=None)#, encoding=\"utf-8\", quoting=csv.QUOTE_NONNUMERIC)\n",
    "    df_test = pd.read_csv(FOLDER+FILE+\".test.txt\", sep=\" \", header=None)#, encoding=\"utf-8\", quoting=csv.QUOTE_NONNUMERIC)\n",
    "    x_train = df_train[df_train.columns[1:]].as_matrix()\n",
    "    y_train = df_train[df_train.columns[0]].as_matrix()\n",
    "    x_test = df_test[df_test.columns[1:]].as_matrix()\n",
    "    y_test = df_test[df_test.columns[0]].as_matrix()"
   ]
  },
  {
   "cell_type": "markdown",
   "metadata": {},
   "source": [
    "# Дерево решений"
   ]
  },
  {
   "cell_type": "markdown",
   "metadata": {},
   "source": [
    "### Классификация"
   ]
  },
  {
   "cell_type": "code",
   "execution_count": null,
   "metadata": {
    "collapsed": true
   },
   "outputs": [],
   "source": [
    "%%time\n",
    "my_tree = DecisionTree(max_features=20, min_samples_leaf=2, max_steps=None, rsm=True, max_depth=5)\n",
    "my_tree.fit(x_train, y_train)\n",
    "y_predicted = my_tree.predict(x_test)\n",
    "print accuracy_score(y_test, y_predicted)"
   ]
  },
  {
   "cell_type": "code",
   "execution_count": null,
   "metadata": {
    "collapsed": true
   },
   "outputs": [],
   "source": [
    "%%time\n",
    "sklearn_tree = DecisionTreeClassifier()\n",
    "sklearn_tree.fit(x_train, y_train)\n",
    "y_predicted = sklearn_tree.predict(x_test)\n",
    "print accuracy_score(y_test, y_predicted)"
   ]
  },
  {
   "cell_type": "markdown",
   "metadata": {},
   "source": [
    "### Регрессия"
   ]
  },
  {
   "cell_type": "code",
   "execution_count": 12,
   "metadata": {
    "collapsed": false
   },
   "outputs": [
    {
     "name": "stdout",
     "output_type": "stream",
     "text": [
      "0.176478909829\n",
      "CPU times: user 3.29 s, sys: 35.7 ms, total: 3.32 s\n",
      "Wall time: 4.22 s\n"
     ]
    }
   ],
   "source": [
    "%%time\n",
    "my_tree = DecisionTree(is_classification=False, rsm=True, max_depth=4, max_features=len(x_train[0]), min_samples_leaf=25)\n",
    "my_tree.fit(x_train, y_train)\n",
    "y_predicted = my_tree.predict(x_test)\n",
    "print mse(y_test, y_predicted)"
   ]
  },
  {
   "cell_type": "code",
   "execution_count": 10,
   "metadata": {
    "collapsed": false
   },
   "outputs": [
    {
     "name": "stdout",
     "output_type": "stream",
     "text": [
      "0.182684196213\n",
      "CPU times: user 27.4 ms, sys: 3.86 ms, total: 31.3 ms\n",
      "Wall time: 30.6 ms\n"
     ]
    }
   ],
   "source": [
    "%%time\n",
    "sklearn_tree = DecisionTreeRegressor(splitter='random', max_depth=4, max_features=len(x_train[0]))\n",
    "sklearn_tree.fit(x_train, y_train)\n",
    "y_predicted = sklearn_tree.predict(x_test)\n",
    "print mse(y_test, y_predicted)"
   ]
  },
  {
   "cell_type": "code",
   "execution_count": null,
   "metadata": {
    "collapsed": true
   },
   "outputs": [],
   "source": [
    "for i in range(len(x_train)):\n",
    "    if not my_tree.predict([x_test[i]])[0] == sklearn_tree.predict([x_test[i]])[0]:\n",
    "        print i, my_tree.predict([x_test[i]])[0], sklearn_tree.predict([x_test[i]])[0]"
   ]
  },
  {
   "cell_type": "code",
   "execution_count": null,
   "metadata": {
    "collapsed": true
   },
   "outputs": [],
   "source": [
    "def visualize_tree(tree, feature_names):\n",
    "    \"\"\"Create tree png using graphviz.\n",
    "\n",
    "    Args\n",
    "    ----\n",
    "    tree -- scikit-learn DecsisionTree.\n",
    "    feature_names -- list of feature names.\n",
    "    \"\"\"\n",
    "    with open(\"dt.dot\", 'w') as f:\n",
    "        export_graphviz(tree, out_file=f,\n",
    "                        feature_names=feature_names)\n",
    "\n",
    "    command = [\"dot\", \"-Tpng\", \"dt.dot\", \"-o\", \"dt.png\"]\n",
    "    try:\n",
    "        subprocess.check_call(command)\n",
    "    except:\n",
    "        exit(\"Could not run dot, ie graphviz, to \"\n",
    "             \"produce visualization\")"
   ]
  },
  {
   "cell_type": "code",
   "execution_count": null,
   "metadata": {
    "collapsed": true
   },
   "outputs": [],
   "source": [
    "visualize_tree(sklearn_tree, range(0,102))"
   ]
  },
  {
   "cell_type": "markdown",
   "metadata": {},
   "source": [
    "# Градиентный бустинг"
   ]
  },
  {
   "cell_type": "markdown",
   "metadata": {},
   "source": [
    "### Регрессия"
   ]
  },
  {
   "cell_type": "markdown",
   "metadata": {},
   "source": [
    "График зависимости качества классификации от минимального размера листа."
   ]
  },
  {
   "cell_type": "code",
   "execution_count": null,
   "metadata": {
    "collapsed": true
   },
   "outputs": [],
   "source": [
    "def abs_loss(y_test, y_predicted):\n",
    "    return sum(np.absolute(y_test - y_predicted))"
   ]
  },
  {
   "cell_type": "code",
   "execution_count": null,
   "metadata": {
    "collapsed": true
   },
   "outputs": [],
   "source": [
    "n_est=250\n",
    "max_depth=4\n",
    "rsm=False\n",
    "max_features=45\n",
    "min_features=20\n",
    "shrinkage=0.1"
   ]
  },
  {
   "cell_type": "code",
   "execution_count": null,
   "metadata": {
    "collapsed": false
   },
   "outputs": [],
   "source": [
    "%%time\n",
    "my_gb = myGB(n_estimators=n_est, max_depth=max_depth, max_features=max_features,\\\n",
    "             min_features=min_features, rsm=rsm, shrinkage=shrinkage)\n",
    "my_gb.fit(x_train, y_train)\n",
    "y_predict = my_gb.predict(x_test)\n",
    "print mse(y_test, y_predict)"
   ]
  },
  {
   "cell_type": "code",
   "execution_count": null,
   "metadata": {
    "collapsed": false
   },
   "outputs": [],
   "source": [
    "%%time\n",
    "gb = GradientBoostingRegressor(n_estimators=n_est, max_depth=max_depth, learning_rate=shrinkage, min_samples_leaf=1)\n",
    "gb.fit(x_train, y_train)\n",
    "y_predicted = gb.predict(x_test)\n",
    "print mse(y_test, y_predicted)"
   ]
  },
  {
   "cell_type": "code",
   "execution_count": null,
   "metadata": {
    "collapsed": false
   },
   "outputs": [],
   "source": [
    "STEP_LENGTH = 10\n",
    "mse_array_my_train = np.zeros(n_est/STEP_LENGTH)\n",
    "mse_array_sklearn_train = np.zeros(n_est/STEP_LENGTH)\n",
    "\n",
    "mse_array_my_test = np.zeros(n_est/STEP_LENGTH)\n",
    "mse_array_sklearn_test = np.zeros(n_est/STEP_LENGTH)\n",
    "\n",
    "n_est_array = [i*10+1 for i in range(len(mse_array_my_train))]\n",
    "for i in range(len(n_est_array)):\n",
    "    est = n_est_array[i]\n",
    "    \n",
    "    # для моего бустинга\n",
    "    #==========================\n",
    "    # для тренировочной выборки\n",
    "    y_predict = my_gb.predict_n(x_train, est)\n",
    "    mse_array_my_train[i] = mse(y_train, y_predict)\n",
    "    # для тестовой выборки\n",
    "    y_predict = my_gb.predict_n(x_test, est)\n",
    "    mse_array_my_test[i] = mse(y_test, y_predict)\n",
    "    \n",
    "    \n",
    "    # для sklernoвского бустинга\n",
    "    gb = GradientBoostingRegressor(n_estimators=est, max_depth=max_depth, learning_rate=shrinkage)\n",
    "    gb.fit(x_train, y_train)\n",
    "    # для тренировочной выборки\n",
    "    y_predict = gb.predict(x_train)\n",
    "    mse_array_sklearn_train[i] = mse(y_train, y_predict)\n",
    "    # для тестовой выборки\n",
    "    y_predict = gb.predict(x_test)\n",
    "    mse_array_sklearn_test[i] = mse(y_test, y_predict)\n",
    "    \n",
    "    if rand() < 0.2:\n",
    "        print \"{} уже посчитано\".format(est)"
   ]
  },
  {
   "cell_type": "code",
   "execution_count": null,
   "metadata": {
    "collapsed": true
   },
   "outputs": [],
   "source": [
    "def plot_curve(x, y_my, y_sklearn, title):\n",
    "    \n",
    "    fig = plt.figure(figsize=(15, 15))\n",
    "    plt.plot(x, y_my, color='blue', label='MyGB')\n",
    "    plt.plot(x, y_sklearn, '-,', color='green', label='SklearnGB')\n",
    "    plt.plot(x, y_sklearn*1.03, '--', color='red', label='SklearnGB +3%')\n",
    "    plt.plot(x, y_sklearn*0.97, '--', color='red', label='SklearnGB -3%')\n",
    "    plt.ylim(0, max(y_sklearn*1.03)+0.02)\n",
    "    plt.grid(True)\n",
    "    plt.xlabel(\"n_estimators\", fontsize=15)\n",
    "    plt.ylabel(\"mse\", fontsize=15)\n",
    "    plt.title(title)\n",
    "    plt.legend()\n",
    "    #plt.show()\n",
    "    return"
   ]
  },
  {
   "cell_type": "code",
   "execution_count": null,
   "metadata": {
    "collapsed": false
   },
   "outputs": [],
   "source": [
    "plot_curve(n_est_array, mse_array_my_train, mse_array_sklearn_train, \"TRAIN\");"
   ]
  },
  {
   "cell_type": "code",
   "execution_count": null,
   "metadata": {
    "collapsed": false
   },
   "outputs": [],
   "source": [
    "plot_curve(n_est_array, mse_array_my_test, mse_array_sklearn_test, \"TEST\")"
   ]
  },
  {
   "cell_type": "code",
   "execution_count": null,
   "metadata": {
    "collapsed": false
   },
   "outputs": [],
   "source": [
    "%%time\n",
    "my_gb = myGB(n_estimators=n_est, max_depth=max_depth, min_features=30, max_features=len(x_train[0]), rsm=True, shrinkage=shrinkage)\n",
    "my_gb.fit(x_train, y_train)\n",
    "y_predict = my_gb.predict(x_test)\n",
    "print mse(y_test, y_predict)"
   ]
  },
  {
   "cell_type": "code",
   "execution_count": null,
   "metadata": {
    "collapsed": false
   },
   "outputs": [],
   "source": [
    "STEP_LENGTH = 10\n",
    "mse_array_my_train = np.zeros(n_est/STEP_LENGTH)\n",
    "mse_array_sklearn_train = np.zeros(n_est/STEP_LENGTH)\n",
    "\n",
    "mse_array_my_test = np.zeros(n_est/STEP_LENGTH)\n",
    "mse_array_sklearn_test = np.zeros(n_est/STEP_LENGTH)\n",
    "\n",
    "n_est_array = [i*10+1 for i in range(len(mse_array_my_train))]\n",
    "for i in range(len(n_est_array)):\n",
    "    est = n_est_array[i]\n",
    "    \n",
    "    # для моего бустинга\n",
    "    #==========================\n",
    "    # для тренировочной выборки\n",
    "    y_predict = my_gb.predict_n(x_train, est)\n",
    "    mse_array_my_train[i] = mse(y_train, y_predict)\n",
    "    # для тестовой выборки\n",
    "    y_predict = my_gb.predict_n(x_test, est)\n",
    "    mse_array_my_test[i] = mse(y_test, y_predict)\n",
    "    \n",
    "    \n",
    "    # для sklernoвского бустинга\n",
    "    gb = GradientBoostingRegressor(n_estimators=est, max_depth=max_depth, learning_rate=shrinkage)\n",
    "    gb.fit(x_train, y_train)\n",
    "    # для тренировочной выборки\n",
    "    y_predict = gb.predict(x_train)\n",
    "    mse_array_sklearn_train[i] = mse(y_train, y_predict)\n",
    "    # для тестовой выборки\n",
    "    y_predict = gb.predict(x_test)\n",
    "    mse_array_sklearn_test[i] = mse(y_test, y_predict)\n",
    "    \n",
    "    if rand() < 0.2:\n",
    "        print \"{} уже посчитано\".format(est)"
   ]
  },
  {
   "cell_type": "code",
   "execution_count": null,
   "metadata": {
    "collapsed": false
   },
   "outputs": [],
   "source": [
    "plot_curve(n_est_array, mse_array_my_train, mse_array_sklearn_train, \"TRAIN_WITH_RSM\");"
   ]
  },
  {
   "cell_type": "code",
   "execution_count": null,
   "metadata": {
    "collapsed": false
   },
   "outputs": [],
   "source": [
    "plot_curve(n_est_array, mse_array_my_test, mse_array_sklearn_test, \"TEST_WITH_RSM\")"
   ]
  }
 ],
 "metadata": {
  "kernelspec": {
   "display_name": "Python 2",
   "language": "python",
   "name": "python2"
  },
  "language_info": {
   "codemirror_mode": {
    "name": "ipython",
    "version": 2
   },
   "file_extension": ".py",
   "mimetype": "text/x-python",
   "name": "python",
   "nbconvert_exporter": "python",
   "pygments_lexer": "ipython2",
   "version": "2.7.10"
  }
 },
 "nbformat": 4,
 "nbformat_minor": 0
}

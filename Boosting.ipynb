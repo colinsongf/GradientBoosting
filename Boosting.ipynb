{
 "cells": [
  {
   "cell_type": "code",
   "execution_count": 1,
   "metadata": {
    "collapsed": false
   },
   "outputs": [
    {
     "name": "stdout",
     "output_type": "stream",
     "text": [
      "Populating the interactive namespace from numpy and matplotlib\n"
     ]
    }
   ],
   "source": [
    "import numpy as np\n",
    "import pandas as pd\n",
    "import matplotlib.pylab as pl\n",
    "import sklearn.cross_validation as cv\n",
    "from sklearn.metrics import accuracy_score\n",
    "from sklearn.tree import DecisionTreeClassifier\n",
    "from DecisionTree import DecisionTree\n",
    "from sklearn.metrics import mean_squared_error as mse\n",
    "from sklearn.ensemble import GradientBoostingRegressor\n",
    "from GradientBoosting import GradientBoosting as myGB\n",
    "# Plotting config\n",
    "%pylab inline"
   ]
  },
  {
   "cell_type": "code",
   "execution_count": 2,
   "metadata": {
    "collapsed": false
   },
   "outputs": [],
   "source": [
    "FOLDER = \"data/\"\n",
    "FILES = [\n",
    "        \"iris.txt\", \"bezdekIris.txt\", \"wine.txt\", \"bupa.txt\", \"housing.txt\", \"spam\"\n",
    "        ]\n",
    "FILE = \"housing.txt\""
   ]
  },
  {
   "cell_type": "code",
   "execution_count": 3,
   "metadata": {
    "collapsed": false
   },
   "outputs": [],
   "source": [
    "# Подготавливаем признаки и целевую функцию\n",
    "if FILE in FILES[:5]:\n",
    "    \n",
    "    df = pd.read_csv(FOLDER+FILE, sep=\",\", header=None)#, encoding=\"utf-8\", quoting=csv.QUOTE_NONNUMERIC)\n",
    "    \n",
    "    if FILE in FILES[:2]:\n",
    "        # ИРИСЫ\n",
    "        df[4] = pd.factorize(df[4])[0]\n",
    "        X = df[[0,1,2,3]].as_matrix()\n",
    "        y = df[4].as_matrix()\n",
    "\n",
    "    if FILE == FILES[2]:\n",
    "        x_indexes = [x for x in range(1,14)]\n",
    "        X = df[x_indexes].as_matrix()\n",
    "        y = df[0].as_matrix()\n",
    "\n",
    "    if FILE == FILES[3]:\n",
    "        X = df[[0,1,2,3,4,5]].as_matrix()\n",
    "        y = df[6]\n",
    "        \n",
    "    if FILE == FILES[4]:\n",
    "        df = pd.read_csv(FOLDER+FILE, sep=\" \", header=None)#, encoding=\"utf-8\", quoting=csv.QUOTE_NONNUMERIC)\n",
    "        X = df[df.columns[1:]].as_matrix()\n",
    "        y = df[df.columns[0]].as_matrix()\n",
    "        \n",
    "    x_train, x_test, y_train, y_test = cv.train_test_split(X, y, test_size=0.25)\n",
    "\n",
    "else:\n",
    "    \n",
    "    df_train = pd.read_csv(FOLDER+FILE+\".train.txt\", sep=\" \", header=None)#, encoding=\"utf-8\", quoting=csv.QUOTE_NONNUMERIC)\n",
    "    df_test = pd.read_csv(FOLDER+FILE+\".test.txt\", sep=\" \", header=None)#, encoding=\"utf-8\", quoting=csv.QUOTE_NONNUMERIC)\n",
    "    x_train = df_train[df_train.columns[1:]].as_matrix()\n",
    "    y_train = df_train[df_train.columns[0]].as_matrix()\n",
    "    x_test = df_test[df_test.columns[1:]].as_matrix()\n",
    "    y_test = df_test[df_test.columns[0]].as_matrix()"
   ]
  },
  {
   "cell_type": "markdown",
   "metadata": {},
   "source": [
    "# Дерево решений"
   ]
  },
  {
   "cell_type": "markdown",
   "metadata": {},
   "source": [
    "### Классификация"
   ]
  },
  {
   "cell_type": "code",
   "execution_count": null,
   "metadata": {
    "collapsed": false
   },
   "outputs": [],
   "source": [
    "%%time\n",
    "for i in range(10):\n",
    "    my_tree = DecisionTree(max_features=20, min_samples_leaf=5, max_steps=100)\n",
    "    my_tree.fit(x_train, y_train)\n",
    "    y_predicted = my_tree.predict(x_test)\n",
    "    print accuracy_score(y_test, y_predicted)"
   ]
  },
  {
   "cell_type": "code",
   "execution_count": null,
   "metadata": {
    "collapsed": false
   },
   "outputs": [],
   "source": [
    "%%time\n",
    "sklearn_tree = DecisionTreeClassifier(splitter='random')\n",
    "sklearn_tree.fit(x_train, y_train)\n",
    "y_predicted = sklearn_tree.predict(x_test)\n",
    "print accuracy_score(y_test, y_predicted)"
   ]
  },
  {
   "cell_type": "markdown",
   "metadata": {},
   "source": [
    "### Регрессия"
   ]
  },
  {
   "cell_type": "code",
   "execution_count": 4,
   "metadata": {
    "collapsed": false
   },
   "outputs": [
    {
     "name": "stdout",
     "output_type": "stream",
     "text": [
      "69.7522712532\n"
     ]
    },
    {
     "name": "stderr",
     "output_type": "stream",
     "text": [
      "/home/popka/anaconda/lib/python2.7/site-packages/numpy/core/_methods.py:59: RuntimeWarning: Mean of empty slice.\n",
      "  warnings.warn(\"Mean of empty slice.\", RuntimeWarning)\n"
     ]
    }
   ],
   "source": [
    "my_tree = DecisionTree(is_classification=False, max_features=len(x_train[0]), max_steps=None)\n",
    "my_tree.fit(x_train, y_train)\n",
    "y_predicted = my_tree.predict(x_test)\n",
    "print mse(y_test, y_predicted)"
   ]
  },
  {
   "cell_type": "code",
   "execution_count": null,
   "metadata": {
    "collapsed": false
   },
   "outputs": [],
   "source": [
    "from sklearn.tree import DecisionTreeRegressor\n",
    "\n",
    "sklearn_tree = DecisionTreeRegressor(splitter='random')\n",
    "sklearn_tree.fit(x_train, y_train)\n",
    "y_predicted = sklearn_tree.predict(x_test)\n",
    "print mse(y_test, y_predicted)"
   ]
  },
  {
   "cell_type": "markdown",
   "metadata": {},
   "source": [
    "# Градиентный бустинг"
   ]
  },
  {
   "cell_type": "markdown",
   "metadata": {},
   "source": [
    "### Регрессия"
   ]
  },
  {
   "cell_type": "code",
   "execution_count": 29,
   "metadata": {
    "collapsed": false
   },
   "outputs": [
    {
     "name": "stdout",
     "output_type": "stream",
     "text": [
      "51.243527306\n"
     ]
    }
   ],
   "source": [
    "my_gb = myGB(n_estimators=200, max_depth=2, shrinkage=0.25, max_steps=None)\n",
    "my_gb.fit(x_train, y_train)\n",
    "y_predicted = my_gb.predict(x_test)\n",
    "print mse(y_test, y_predicted)"
   ]
  },
  {
   "cell_type": "code",
   "execution_count": 42,
   "metadata": {
    "collapsed": false
   },
   "outputs": [
    {
     "name": "stdout",
     "output_type": "stream",
     "text": [
      "55.6887868381\n"
     ]
    }
   ],
   "source": [
    "gb = GradientBoostingRegressor(n_estimators=200, random_state=np.random, max_depth=2)\n",
    "gb.fit(x_train, y_train)\n",
    "y_predicted = gb.predict(x_test)\n",
    "print mse(y_test, y_predicted)"
   ]
  }
 ],
 "metadata": {
  "kernelspec": {
   "display_name": "Python 2",
   "language": "python",
   "name": "python2"
  },
  "language_info": {
   "codemirror_mode": {
    "name": "ipython",
    "version": 2
   },
   "file_extension": ".py",
   "mimetype": "text/x-python",
   "name": "python",
   "nbconvert_exporter": "python",
   "pygments_lexer": "ipython2",
   "version": "2.7.10"
  }
 },
 "nbformat": 4,
 "nbformat_minor": 0
}

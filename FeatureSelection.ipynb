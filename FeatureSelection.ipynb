{
 "cells": [
  {
   "cell_type": "code",
   "execution_count": 73,
   "metadata": {
    "collapsed": false
   },
   "outputs": [
    {
     "name": "stdout",
     "output_type": "stream",
     "text": [
      "Populating the interactive namespace from numpy and matplotlib\n"
     ]
    },
    {
     "name": "stderr",
     "output_type": "stream",
     "text": [
      "WARNING: pylab import has clobbered these variables: ['f']\n",
      "`%matplotlib` prevents importing * from pylab and numpy\n"
     ]
    }
   ],
   "source": [
    "import numpy as np\n",
    "import pandas as pd\n",
    "import matplotlib.pylab as pl\n",
    "import seaborn as sns\n",
    "import sklearn.cross_validation as cv\n",
    "from sklearn.metrics import accuracy_score\n",
    "from sklearn.tree import DecisionTreeClassifier, DecisionTreeRegressor,export_graphviz\n",
    "from DecisionTree import DecisionTree\n",
    "from sklearn.metrics import mean_squared_error as mse\n",
    "from sklearn.ensemble import GradientBoostingRegressor as GBR\n",
    "from GradientBoosting import GradientBoosting as myGB\n",
    "# Plotting config\n",
    "%pylab inline"
   ]
  },
  {
   "cell_type": "code",
   "execution_count": 2,
   "metadata": {
    "collapsed": true
   },
   "outputs": [],
   "source": [
    "FOLDER = \"data/\"\n",
    "FILES = [\n",
    "        \"iris.txt\", \"bezdekIris.txt\", \"wine.txt\", \"bupa.txt\", \"housing.txt\", \"auto-mpg.txt\", \"spam\"\n",
    "        ]\n",
    "FILE = \"spam\""
   ]
  },
  {
   "cell_type": "code",
   "execution_count": 3,
   "metadata": {
    "collapsed": true
   },
   "outputs": [],
   "source": [
    "# Подготавливаем признаки и целевую функцию\n",
    "if FILE in FILES[:6]:\n",
    "    \n",
    "    df = pd.read_csv(FOLDER+FILE, sep=\",\", header=None)#, encoding=\"utf-8\", quoting=csv.QUOTE_NONNUMERIC)\n",
    "    \n",
    "    if FILE in FILES[:2]:\n",
    "        # ИРИСЫ\n",
    "        df[4] = pd.factorize(df[4])[0]\n",
    "        X = df[[0,1,2,3]].as_matrix()\n",
    "        y = df[4].as_matrix()\n",
    "\n",
    "    if FILE == FILES[2]:\n",
    "        x_indexes = [x for x in range(1,14)]\n",
    "        X = df[x_indexes].as_matrix()\n",
    "        y = df[0].as_matrix()\n",
    "\n",
    "    if FILE == FILES[3]:\n",
    "        X = df[[0,1,2,3,4,5]].as_matrix()\n",
    "        y = df[6]\n",
    "        \n",
    "    if FILE == FILES[4]:\n",
    "        df = pd.read_csv(FOLDER+FILE, sep=\" \", header=None)#, encoding=\"utf-8\", quoting=csv.QUOTE_NONNUMERIC)\n",
    "        X = df[df.columns[1:]].as_matrix()\n",
    "        y = df[df.columns[0]].as_matrix()\n",
    "        \n",
    "    if FILE == FILES[5]:\n",
    "        df = pd.read_csv(FOLDER+FILE, sep=\" \", header=None)#, encoding=\"utf-8\", quoting=csv.QUOTE_NONNUMERIC)\n",
    "        X = df[df.columns[1:-1]].as_matrix()\n",
    "        y = df[df.columns[0]].as_matrix()\n",
    "        \n",
    "    x_train, x_test, y_train, y_test = cv.train_test_split(X, y, test_size=0.25)\n",
    "\n",
    "else:\n",
    "    \n",
    "    df_train = pd.read_csv(FOLDER+FILE+\".train.txt\", sep=\" \", header=None)#, encoding=\"utf-8\", quoting=csv.QUOTE_NONNUMERIC)\n",
    "    df_test = pd.read_csv(FOLDER+FILE+\".test.txt\", sep=\" \", header=None)#, encoding=\"utf-8\", quoting=csv.QUOTE_NONNUMERIC)\n",
    "    x_train = df_train[df_train.columns[1:]].as_matrix()\n",
    "    y_train = df_train[df_train.columns[0]].as_matrix()\n",
    "    x_test = df_test[df_test.columns[1:]].as_matrix()\n",
    "    y_test = df_test[df_test.columns[0]].as_matrix()"
   ]
  },
  {
   "cell_type": "code",
   "execution_count": 89,
   "metadata": {
    "collapsed": true
   },
   "outputs": [],
   "source": [
    "def plot_curve(x, y, title):\n",
    "    \n",
    "    fig = plt.figure(figsize=(10, 10))\n",
    "    plt.plot(x, y, color='blue', label='MyGB')\n",
    "    plt.ylim(0, max(y*1.03)+0.02)\n",
    "    plt.grid(True)\n",
    "    plt.xlabel(\"features count\", fontsize=15)\n",
    "    plt.ylabel(\"mse\", fontsize=15)\n",
    "    plt.title(title)\n",
    "    plt.legend()\n",
    "    #plt.show()\n",
    "    return"
   ]
  },
  {
   "cell_type": "markdown",
   "metadata": {},
   "source": [
    "## Сколько фичей отбираем "
   ]
  },
  {
   "cell_type": "markdown",
   "metadata": {},
   "source": [
    "## Embedded "
   ]
  },
  {
   "cell_type": "code",
   "execution_count": 19,
   "metadata": {
    "collapsed": true
   },
   "outputs": [],
   "source": [
    "N = 40"
   ]
  },
  {
   "cell_type": "code",
   "execution_count": 75,
   "metadata": {
    "collapsed": true
   },
   "outputs": [],
   "source": [
    "n_est=250\n",
    "max_depth=4\n",
    "rsm=False\n",
    "shrinkage=0.1"
   ]
  },
  {
   "cell_type": "code",
   "execution_count": null,
   "metadata": {
    "collapsed": false
   },
   "outputs": [],
   "source": [
    "%%time\n",
    "my_gb = myGB(n_estimators=n_est, max_depth=max_depth, rsm=rsm, shrinkage=shrinkage)\n",
    "my_gb.fit(x_train, y_train)\n",
    "y_predict = my_gb.predict(x_test)\n",
    "print mse(y_test, y_predict)"
   ]
  },
  {
   "cell_type": "code",
   "execution_count": 17,
   "metadata": {
    "collapsed": true
   },
   "outputs": [],
   "source": [
    "def aggregate_gains(node, feature_importance):\n",
    "    if node.is_leaf:\n",
    "        return\n",
    "    \n",
    "    gain = node.predicate.gain\n",
    "    feature_index = node.predicate.feature_id\n",
    "    feature_importance[feature_index] = gain\n",
    "    \n",
    "    aggregate_gains(node.left_node, feature_importance)\n",
    "    aggregate_gains(node.right_node, feature_importance)"
   ]
  },
  {
   "cell_type": "code",
   "execution_count": 41,
   "metadata": {
    "collapsed": false
   },
   "outputs": [],
   "source": [
    "feature_importance = np.zeros(len(x_train.T))\n",
    "ensamble = my_gb._estimators\n",
    "for tree in ensamble:\n",
    "    aggregate_gains(tree._root, feature_importance)"
   ]
  },
  {
   "cell_type": "code",
   "execution_count": 42,
   "metadata": {
    "collapsed": false
   },
   "outputs": [
    {
     "data": {
      "text/plain": [
       "[(0.02446473706723961, 1),\n",
       " (0.011167097437227878, 5),\n",
       " (0.0029132725641669217, 3),\n",
       " (0.002127789661582192, 16),\n",
       " (0.0020445276193503431, 12),\n",
       " (0.0011988979992720132, 20),\n",
       " (0.0005115835275210361, 10),\n",
       " (0.00033454494933643356, 19),\n",
       " (0.00033154612640215074, 15),\n",
       " (0.00031486538366250812, 2),\n",
       " (0.00027328513892110884, 6),\n",
       " (0.00025020968288798654, 4),\n",
       " (7.0728926702270413e-05, 18),\n",
       " (3.9003940872655088e-05, 17),\n",
       " (3.8331850913073465e-05, 8),\n",
       " (3.3355779982461101e-05, 13),\n",
       " (3.2217514214449849e-05, 14),\n",
       " (2.7468813497631347e-05, 9),\n",
       " (2.0303530676989926e-05, 11),\n",
       " (1.7195524337910995e-05, 7),\n",
       " (0.0, 21),\n",
       " (0.0, 22),\n",
       " (0.0, 23),\n",
       " (0.0, 24),\n",
       " (0.0, 25),\n",
       " (0.0, 26),\n",
       " (0.0, 27),\n",
       " (0.0, 28),\n",
       " (0.0, 29),\n",
       " (0.0, 30)]"
      ]
     },
     "execution_count": 42,
     "metadata": {},
     "output_type": "execute_result"
    }
   ],
   "source": [
    "zipped = zip(feature_importance, df_train.columns[1:])\n",
    "zipped.sort(key = lambda t: t[0], reverse=True)\n",
    "zipped[:N]"
   ]
  },
  {
   "cell_type": "markdown",
   "metadata": {},
   "source": [
    "#### Посчитаем качество на сокращенном наборе фичей"
   ]
  },
  {
   "cell_type": "code",
   "execution_count": 18,
   "metadata": {
    "collapsed": false
   },
   "outputs": [
    {
     "ename": "NameError",
     "evalue": "name 'zipped' is not defined",
     "output_type": "error",
     "traceback": [
      "\u001b[1;31m---------------------------------------------------------------------------\u001b[0m",
      "\u001b[1;31mNameError\u001b[0m                                 Traceback (most recent call last)",
      "\u001b[1;32m<ipython-input-18-9f5ee43ae016>\u001b[0m in \u001b[0;36m<module>\u001b[1;34m()\u001b[0m\n\u001b[0;32m      1\u001b[0m \u001b[0mnew_features\u001b[0m \u001b[1;33m=\u001b[0m \u001b[1;33m[\u001b[0m\u001b[1;33m]\u001b[0m\u001b[1;33m\u001b[0m\u001b[0m\n\u001b[0;32m      2\u001b[0m \u001b[1;32mfor\u001b[0m \u001b[0mi\u001b[0m \u001b[1;32min\u001b[0m \u001b[0mrange\u001b[0m\u001b[1;33m(\u001b[0m\u001b[0mN\u001b[0m\u001b[1;33m)\u001b[0m\u001b[1;33m:\u001b[0m\u001b[1;33m\u001b[0m\u001b[0m\n\u001b[1;32m----> 3\u001b[1;33m     \u001b[0mnew_features\u001b[0m\u001b[1;33m.\u001b[0m\u001b[0mappend\u001b[0m\u001b[1;33m(\u001b[0m\u001b[0mzipped\u001b[0m\u001b[1;33m[\u001b[0m\u001b[0mi\u001b[0m\u001b[1;33m]\u001b[0m\u001b[1;33m[\u001b[0m\u001b[1;36m1\u001b[0m\u001b[1;33m]\u001b[0m\u001b[1;33m-\u001b[0m\u001b[1;36m1\u001b[0m\u001b[1;33m)\u001b[0m\u001b[1;33m\u001b[0m\u001b[0m\n\u001b[0m\u001b[0;32m      4\u001b[0m \u001b[1;33m\u001b[0m\u001b[0m\n\u001b[0;32m      5\u001b[0m \u001b[0mnew_x_train\u001b[0m \u001b[1;33m=\u001b[0m \u001b[0mx_train\u001b[0m\u001b[1;33m[\u001b[0m\u001b[1;33m:\u001b[0m\u001b[1;33m,\u001b[0m\u001b[0mnew_features\u001b[0m\u001b[1;33m]\u001b[0m\u001b[1;33m\u001b[0m\u001b[0m\n",
      "\u001b[1;31mNameError\u001b[0m: name 'zipped' is not defined"
     ]
    }
   ],
   "source": [
    "new_features = []\n",
    "for i in range(N):\n",
    "    new_features.append(zipped[i][1]-1)\n",
    "    \n",
    "new_x_train = x_train[:,new_features]"
   ]
  },
  {
   "cell_type": "code",
   "execution_count": 32,
   "metadata": {
    "collapsed": false
   },
   "outputs": [
    {
     "name": "stdout",
     "output_type": "stream",
     "text": [
      "0.322692170533\n",
      "CPU times: user 13min 27s, sys: 2.22 s, total: 13min 29s\n",
      "Wall time: 13min 28s\n"
     ]
    }
   ],
   "source": [
    "%%time\n",
    "my_gb = myGB(n_estimators=n_est, max_depth=max_depth, rsm=rsm, shrinkage=shrinkage)\n",
    "my_gb.fit(new_x_train, y_train)\n",
    "y_predict = my_gb.predict(x_test)\n",
    "print mse(y_test, y_predict)"
   ]
  },
  {
   "cell_type": "markdown",
   "metadata": {},
   "source": [
    "#### Сравним качество со Sklearn'ом "
   ]
  },
  {
   "cell_type": "code",
   "execution_count": 36,
   "metadata": {
    "collapsed": false
   },
   "outputs": [
    {
     "data": {
      "text/plain": [
       "GradientBoostingRegressor(alpha=0.9, init=None, learning_rate=0.1, loss='ls',\n",
       "             max_depth=3, max_features=None, max_leaf_nodes=None,\n",
       "             min_samples_leaf=1, min_samples_split=2,\n",
       "             min_weight_fraction_leaf=0.0, n_estimators=250,\n",
       "             presort='auto', random_state=None, subsample=1.0, verbose=0,\n",
       "             warm_start=False)"
      ]
     },
     "execution_count": 36,
     "metadata": {},
     "output_type": "execute_result"
    }
   ],
   "source": [
    "gb = GradientBoostingRegressor(n_estimators=250)\n",
    "gb.fit(x_train, y_train)"
   ]
  },
  {
   "cell_type": "code",
   "execution_count": 37,
   "metadata": {
    "collapsed": false
   },
   "outputs": [
    {
     "data": {
      "text/plain": [
       "[(0.042212281145185708, 49),\n",
       " (0.032436520263697421, 102),\n",
       " (0.032229981494934584, 5),\n",
       " (0.029505360193011251, 36),\n",
       " (0.026928207878023327, 54),\n",
       " (0.026414410156935377, 10),\n",
       " (0.025565967771776561, 44),\n",
       " (0.025262875587349139, 16),\n",
       " (0.024399274792146423, 30),\n",
       " (0.022949277322286958, 32),\n",
       " (0.022690757875864397, 50),\n",
       " (0.022537785499465571, 72),\n",
       " (0.021377374063986553, 9),\n",
       " (0.018091260746360575, 71),\n",
       " (0.017762623267217809, 38),\n",
       " (0.017020544915766954, 39),\n",
       " (0.01532870021530928, 94),\n",
       " (0.015226564297827365, 4),\n",
       " (0.015214750487401049, 25),\n",
       " (0.014908850581864499, 42)]"
      ]
     },
     "execution_count": 37,
     "metadata": {},
     "output_type": "execute_result"
    }
   ],
   "source": [
    "zipped = zip(gb.feature_importances_, df_train.columns[1:])\n",
    "zipped.sort(key = lambda t: t[0], reverse=True)"
   ]
  },
  {
   "cell_type": "code",
   "execution_count": 38,
   "metadata": {
    "collapsed": true
   },
   "outputs": [],
   "source": [
    "new_features = []\n",
    "for i in range(N):\n",
    "    new_features.append(zipped[i][1]-1)\n",
    "    \n",
    "new_x_train = x_train[:,new_features]"
   ]
  },
  {
   "cell_type": "code",
   "execution_count": 39,
   "metadata": {
    "collapsed": false
   },
   "outputs": [
    {
     "name": "stdout",
     "output_type": "stream",
     "text": [
      "0.322692170533\n"
     ]
    }
   ],
   "source": [
    "gb = GradientBoostingRegressor(n_estimators=250)\n",
    "gb.fit(new_x_train, y_train)\n",
    "y_predict = my_gb.predict(x_test)\n",
    "print mse(y_test, y_predict)"
   ]
  },
  {
   "cell_type": "markdown",
   "metadata": {},
   "source": [
    "# Filtering"
   ]
  },
  {
   "cell_type": "markdown",
   "metadata": {},
   "source": [
    "#### Считаем дисперсию. Удаляем фичи с малой дисперсией"
   ]
  },
  {
   "cell_type": "code",
   "execution_count": 90,
   "metadata": {
    "collapsed": false
   },
   "outputs": [
    {
     "data": {
      "text/plain": [
       "[(0.0076567972880058569, 64),\n",
       " (0.0076716236387681224, 65),\n",
       " (0.011695836204174997, 40),\n",
       " (0.011856509800414342, 71),\n",
       " (0.011979800781408386, 60),\n",
       " (0.012334360744794213, 13),\n",
       " (0.01252989273047095, 47),\n",
       " (0.01280339659541937, 1),\n",
       " (0.013210705078223866, 46),\n",
       " (0.013240534094942073, 29),\n",
       " (0.01334082804030908, 4),\n",
       " (0.013522356747637595, 57),\n",
       " (0.013933084360454307, 37),\n",
       " (0.013961477804628213, 26),\n",
       " (0.014248337305146784, 50),\n",
       " (0.014808084850882801, 2),\n",
       " (0.014840618193294816, 35),\n",
       " (0.014956189589553484, 39),\n",
       " (0.015313791703047483, 30),\n",
       " (0.015640209719890268, 51),\n",
       " (0.01572107353262182, 27),\n",
       " (0.016021380299304628, 38),\n",
       " (0.016037463097568035, 48),\n",
       " (0.01605004425878238, 3),\n",
       " (0.016109212439741588, 36),\n",
       " (0.01626126579486804, 11),\n",
       " (0.016381139588248619, 81),\n",
       " (0.016417947861641212, 45),\n",
       " (0.016427802200562083, 31),\n",
       " (0.016547599623142114, 59),\n",
       " (0.016702966140811727, 10),\n",
       " (0.01714869918210029, 15),\n",
       " (0.017350723301227645, 68),\n",
       " (0.017635796918884304, 20),\n",
       " (0.017644749010785932, 7),\n",
       " (0.017689251522214077, 93),\n",
       " (0.017691269002962202, 8),\n",
       " (0.017897444656781464, 74),\n",
       " (0.01793768896672792, 53),\n",
       " (0.018301851585672706, 84)]"
      ]
     },
     "execution_count": 90,
     "metadata": {},
     "output_type": "execute_result"
    }
   ],
   "source": [
    "zipped_var = zip(np.var(x_train, axis=1), df_train.columns[1:])\n",
    "zipped_var.sort(key = lambda t: t[0], reverse=False)\n",
    "zipped_var[:N]"
   ]
  },
  {
   "cell_type": "markdown",
   "metadata": {},
   "source": [
    "#### Считаем корреляцию"
   ]
  },
  {
   "cell_type": "code",
   "execution_count": 91,
   "metadata": {
    "collapsed": false
   },
   "outputs": [
    {
     "data": {
      "text/plain": [
       "<matplotlib.axes._subplots.AxesSubplot at 0x7f3d7e9be4d0>"
      ]
     },
     "execution_count": 91,
     "metadata": {},
     "output_type": "execute_result"
    },
    {
     "data": {
      "image/png": "[encoded data removed]",
      "text/plain": [
       "<matplotlib.figure.Figure at 0x7f3d7e9bec90>"
      ]
     },
     "metadata": {},
     "output_type": "display_data"
    }
   ],
   "source": [
    "corr_mat = df_train.corr().abs()\n",
    "plt.figure(figsize=(18, 18))\n",
    "plt.title(\"Correlation between features\")\n",
    "sns.heatmap(corr_mat, cmap=\"YlOrRd\")"
   ]
  },
  {
   "cell_type": "code",
   "execution_count": 92,
   "metadata": {
    "collapsed": false
   },
   "outputs": [
    {
     "data": {
      "text/plain": [
       "0      1.000000\n",
       "49     0.568761\n",
       "57     0.537859\n",
       "50     0.528454\n",
       "71     0.471797\n",
       "9      0.457633\n",
       "102    0.449326\n",
       "11     0.438617\n",
       "54     0.438501\n",
       "10     0.426603\n",
       "32     0.426160\n",
       "15     0.424721\n",
       "42     0.400683\n",
       "33     0.394837\n",
       "16     0.383547\n",
       "72     0.361224\n",
       "5      0.360705\n",
       "75     0.356101\n",
       "30     0.331017\n",
       "76     0.328774\n",
       "52     0.310010\n",
       "63     0.277489\n",
       "74     0.273313\n",
       "36     0.268448\n",
       "77     0.268415\n",
       "73     0.265625\n",
       "62     0.257104\n",
       "53     0.252628\n",
       "17     0.247948\n",
       "88     0.245494\n",
       "12     0.243380\n",
       "86     0.237652\n",
       "20     0.236205\n",
       "92     0.235714\n",
       "84     0.230141\n",
       "40     0.227601\n",
       "79     0.224334\n",
       "78     0.223807\n",
       "81     0.223653\n",
       "90     0.218516\n",
       "Name: 0, dtype: float64"
      ]
     },
     "execution_count": 92,
     "metadata": {},
     "output_type": "execute_result"
    }
   ],
   "source": [
    "# Выберем признаки, похожие на ответ\n",
    "abs_corr_y = corr_mat[0]\n",
    "good_features = abs_corr_y.sort_values(ascending=False)[:N]\n",
    "good_features"
   ]
  },
  {
   "cell_type": "markdown",
   "metadata": {},
   "source": [
    "#### Найдем признаки, которых похожи на те, что мы отобрали. Их не берем"
   ]
  },
  {
   "cell_type": "code",
   "execution_count": 93,
   "metadata": {
    "collapsed": false
   },
   "outputs": [
    {
     "name": "stdout",
     "output_type": "stream",
     "text": [
      "Feature  0  correlate with  []\n",
      "Feature  49  correlate with  []\n",
      "Feature  57  correlate with  [50]\n",
      "Feature  50  correlate with  [57]\n",
      "Feature  71  correlate with  []\n",
      "Feature  9  correlate with  []\n",
      "Feature  102  correlate with  []\n",
      "Feature  11  correlate with  []\n",
      "Feature  54  correlate with  []\n",
      "Feature  10  correlate with  []\n",
      "Feature  32  correlate with  []\n",
      "Feature  15  correlate with  [16]\n",
      "Feature  42  correlate with  []\n",
      "Feature  33  correlate with  [62]\n",
      "Feature  16  correlate with  [15]\n",
      "Feature  72  correlate with  []\n",
      "Feature  5  correlate with  []\n",
      "Feature  75  correlate with  []\n",
      "Feature  30  correlate with  [34]\n",
      "Feature  76  correlate with  []\n",
      "Feature  52  correlate with  []\n",
      "Feature  63  correlate with  []\n",
      "Feature  74  correlate with  []\n",
      "Feature  36  correlate with  []\n",
      "Feature  77  correlate with  []\n",
      "Feature  73  correlate with  []\n",
      "Feature  62  correlate with  [33]\n",
      "Feature  53  correlate with  [48 56]\n",
      "Feature  17  correlate with  []\n",
      "Feature  88  correlate with  []\n",
      "Feature  12  correlate with  []\n",
      "Feature  86  correlate with  [78]\n",
      "Feature  20  correlate with  []\n",
      "Feature  92  correlate with  []\n",
      "Feature  84  correlate with  [95]\n",
      "Feature  40  correlate with  [39]\n",
      "Feature  79  correlate with  []\n",
      "Feature  78  correlate with  [86]\n",
      "Feature  81  correlate with  []\n",
      "Feature  90  correlate with  []\n",
      "[50, 57, 16, 62, 15, 34, 33, 48, 56, 78, 95, 39, 86]\n"
     ]
    }
   ],
   "source": [
    "min_cor = 0.7\n",
    "feature_indexes = good_features.index\n",
    "full_similar_features = []\n",
    "for idx in feature_indexes:\n",
    "    similiar_features = corr_mat[corr_mat[idx]>min_cor].index.values\n",
    "    # Удаляем значение idx из similiar_features\n",
    "    similiar_features = similiar_features[similiar_features != idx]\n",
    "    full_similar_features.extend(similiar_features)\n",
    "    print \"Feature \", idx, \" correlate with \", similiar_features\n",
    "    \n",
    "print full_similar_features"
   ]
  },
  {
   "cell_type": "code",
   "execution_count": 94,
   "metadata": {
    "collapsed": false
   },
   "outputs": [],
   "source": [
    "for f in full_similar_features:\n",
    "    if f in good_features:\n",
    "        good_features = good_features.drop(f)"
   ]
  },
  {
   "cell_type": "code",
   "execution_count": 95,
   "metadata": {
    "collapsed": false
   },
   "outputs": [],
   "source": [
    "good_features = list(good_features.index[1:]-1)"
   ]
  },
  {
   "cell_type": "code",
   "execution_count": 96,
   "metadata": {
    "collapsed": false
   },
   "outputs": [
    {
     "name": "stdout",
     "output_type": "stream",
     "text": [
      "[48, 70, 8, 101, 10, 53, 9, 31, 41, 71, 4, 74, 29, 75, 51, 62, 73, 35, 76, 72, 52, 16, 87, 11, 19, 91, 83, 39, 78, 80, 89]\n"
     ]
    }
   ],
   "source": [
    "# чтобы не потерять\n",
    "print good_features"
   ]
  },
  {
   "cell_type": "code",
   "execution_count": 79,
   "metadata": {
    "collapsed": false
   },
   "outputs": [],
   "source": [
    "mse_array=[]\n",
    "for i in range(1, len(good_features)+1):\n",
    "    features = good_features[:i]\n",
    "    X_train, X_test = x_train[:,features], x_test[:, features]\n",
    "    model = GBR(n_estimators=n_est, max_depth=max_depth, learning_rate=shrinkage)\n",
    "    model.fit(X_train, y_train)\n",
    "    y_predicted=model.predict(X_test)\n",
    "    mse_array.append(mse(y_test, y_predicted))"
   ]
  },
  {
   "cell_type": "code",
   "execution_count": 85,
   "metadata": {
    "collapsed": false
   },
   "outputs": [
    {
     "data": {
      "image/png": "[encoded data removed]",
      "text/plain": [
       "<matplotlib.figure.Figure at 0x7f3d7e9e3710>"
      ]
     },
     "metadata": {},
     "output_type": "display_data"
    }
   ],
   "source": [
    "plot_curve(range(1, len(good_features)+1), np.asarray(mse_array), \"Filtering\")"
   ]
  },
  {
   "cell_type": "markdown",
   "metadata": {},
   "source": [
    "# Wrapper"
   ]
  },
  {
   "cell_type": "code",
   "execution_count": 103,
   "metadata": {
    "collapsed": true
   },
   "outputs": [],
   "source": [
    "from sklearn.cross_validation import KFold\n",
    "from sklearn.metrics import mean_squared_error as mse\n",
    "from sklearn.ensemble import GradientBoostingRegressor as GBR"
   ]
  },
  {
   "cell_type": "code",
   "execution_count": 104,
   "metadata": {
    "collapsed": true
   },
   "outputs": [],
   "source": [
    "n_est=250\n",
    "rsm=False\n",
    "shrinkage=0.1\n",
    "max_depth=4"
   ]
  },
  {
   "cell_type": "code",
   "execution_count": 105,
   "metadata": {
    "collapsed": true
   },
   "outputs": [],
   "source": [
    "def measure_quality(X, y, k=3):\n",
    "    \n",
    "    kf = KFold(len(y), n_folds=k)\n",
    "    mse_array = []\n",
    "    for train, test in kf:\n",
    "        _X_train, _X_test, _y_train, _y_test = X[train], X[test], y[train], y[test]\n",
    "        model = GBR(n_estimators=n_est, max_depth=max_depth, learning_rate=shrinkage)\n",
    "        model.fit(_X_train, _y_train)\n",
    "        _y_predicted=model.predict(_X_test)\n",
    "        mse_array.append(mse(_y_test, _y_predicted))\n",
    "    \n",
    "    return float(sum(mse_array))/len(mse_array)"
   ]
  },
  {
   "cell_type": "code",
   "execution_count": 106,
   "metadata": {
    "collapsed": true
   },
   "outputs": [],
   "source": [
    "def find_best_feature(best_features, remaining_features, x_train, y_train):\n",
    "    \"\"\"\n",
    "    Выбираем лучшую фичу.\n",
    "    best_features - [1,5,10,...]фичи, которые уже были выбраны\n",
    "    remaining_features - [2,3,4,6,7,8,9,,...] оставшиеся фичи, которые уже были выбраны\n",
    "    \"\"\"\n",
    "    best_mse = sys.maxint\n",
    "    best_fea = None\n",
    "    print best_features, remaining_features\n",
    "\n",
    "    for f in remaining_features:\n",
    "        new_features = best_features + [f]\n",
    "        print new_features\n",
    "        new_mse = measure_quality(x_train[:,new_features], y_train)\n",
    "        \n",
    "        if new_mse < best_mse:\n",
    "            best_mse = new_mse\n",
    "            best_fea = f\n",
    "            \n",
    "    return best_fea, best_mse"
   ]
  },
  {
   "cell_type": "code",
   "execution_count": null,
   "metadata": {
    "collapsed": false
   },
   "outputs": [
    {
     "name": "stdout",
     "output_type": "stream",
     "text": [
      "102\n",
      "[] [0, 1, 2, 3, 4, 5, 6, 7, 8, 9, 10, 11, 12, 13, 14, 15, 16, 17, 18, 19, 20, 21, 22, 23, 24, 25, 26, 27, 28, 29, 30, 31, 32, 33, 34, 35, 36, 37, 38, 39, 40, 41, 42, 43, 44, 45, 46, 47, 48, 49, 50, 51, 52, 53, 54, 55, 56, 57, 58, 59, 60, 61, 62, 63, 64, 65, 66, 67, 68, 69, 70, 71, 72, 73, 74, 75, 76, 77, 78, 79, 80, 81, 82, 83, 84, 85, 86, 87, 88, 89, 90, 91, 92, 93, 94, 95, 96, 97, 98, 99, 100, 101]\n",
      "[0]\n",
      "[1]\n",
      "[2]\n",
      "[3]\n",
      "[4]\n",
      "[5]\n",
      "[6]\n",
      "[7]\n",
      "[8]\n",
      "[9]\n",
      "[10]\n",
      "[11]\n",
      "[12]\n",
      "[13]\n",
      "[14]\n",
      "[15]\n",
      "[16]\n",
      "[17]\n",
      "[18]\n",
      "[19]\n",
      "[20]\n",
      "[21]\n",
      "[22]\n",
      "[23]\n",
      "[24]\n",
      "[25]\n",
      "[26]\n",
      "[27]\n",
      "[28]\n",
      "[29]\n",
      "[30]\n",
      "[31]\n",
      "[32]\n",
      "[33]"
     ]
    }
   ],
   "source": [
    "%%time\n",
    "best_features=[]\n",
    "\n",
    "all_features=range(0, x_train.shape[1])\n",
    "print x_train.shape[1]\n",
    "best_mse=sys.maxint\n",
    "\n",
    "for f in all_features:\n",
    "    feature, cur_mse = find_best_feature(best_features, all_features, x_train, y_train)\n",
    "    \n",
    "    if cur_mse<best_mse:\n",
    "        print \"====================\"\n",
    "        print \"new_best_mse = \", cur_mse\n",
    "        best_mse=cur_mse\n",
    "        best_features.append(feature)\n",
    "        all_features.remove(feature)\n",
    "        print \"the_best_feature_list=\", best_features\n",
    "        print all_features\n",
    "        print \"////////////////\"\n",
    "    else:\n",
    "        print \"NOT_GOOD_FEATURES\"\n",
    "        break"
   ]
  },
  {
   "cell_type": "code",
   "execution_count": 97,
   "metadata": {
    "collapsed": true
   },
   "outputs": [],
   "source": [
    "good_features = [48, 70, 53, 10, 101, 56, 55, 9, 71, 4, 76, 52, 16, 3, 6, 50, 65, 100]\n",
    "\n",
    "mse_array=[]\n",
    "for i in range(1, len(good_features)+1):\n",
    "    features = good_features[:i]\n",
    "    X_train, X_test = x_train[:,features], x_test[:, features]\n",
    "    model = GBR(n_estimators=40, max_depth=max_depth, learning_rate=shrinkage)\n",
    "    model.fit(X_train, y_train)\n",
    "    y_predicted=model.predict(X_test)\n",
    "    mse_array.append(mse(y_test, y_predicted))"
   ]
  },
  {
   "cell_type": "code",
   "execution_count": 98,
   "metadata": {
    "collapsed": false
   },
   "outputs": [
    {
     "data": {
      "image/png": "[encoded data removed]",
      "text/plain": [
       "<matplotlib.figure.Figure at 0x7f3d7e4be690>"
      ]
     },
     "metadata": {},
     "output_type": "display_data"
    }
   ],
   "source": [
    "plot_curve(range(1, len(good_features)+1), np.asarray(mse_array), \"Wrapper\")"
   ]
  }
 ],
 "metadata": {
  "kernelspec": {
   "display_name": "Python 2",
   "language": "python",
   "name": "python2"
  },
  "language_info": {
   "codemirror_mode": {
    "name": "ipython",
    "version": 2
   },
   "file_extension": ".py",
   "mimetype": "text/x-python",
   "name": "python",
   "nbconvert_exporter": "python",
   "pygments_lexer": "ipython2",
   "version": "2.7.10"
  }
 },
 "nbformat": 4,
 "nbformat_minor": 0
}
